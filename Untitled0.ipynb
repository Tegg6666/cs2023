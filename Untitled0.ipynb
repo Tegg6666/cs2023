{
  "nbformat": 4,
  "nbformat_minor": 0,
  "metadata": {
    "colab": {
      "provenance": []
    },
    "kernelspec": {
      "name": "python3",
      "display_name": "Python 3"
    },
    "language_info": {
      "name": "python"
    }
  },
  "cells": [
    {
      "cell_type": "code",
      "execution_count": 2,
      "metadata": {
        "colab": {
          "base_uri": "https://localhost:8080/"
        },
        "id": "Lho-EivFi_zn",
        "outputId": "917e4ce6-cdfb-4e4d-f2f8-5df6a868a0a6"
      },
      "outputs": [
        {
          "output_type": "execute_result",
          "data": {
            "text/plain": [
              "47052721287394587764057094854672253553918218437190874778408030747195017485692977810906266281547645147"
            ]
          },
          "metadata": {},
          "execution_count": 2
        }
      ],
      "source": [
        "3**211"
      ]
    }
  ]
}